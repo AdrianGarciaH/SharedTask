{
 "cells": [
  {
   "cell_type": "code",
   "execution_count": 1,
   "id": "47eb8570",
   "metadata": {},
   "outputs": [],
   "source": [
    "#Set up\n",
    "import numpy as np\n",
    "import pandas as pd\n",
    "import matplotlib.pyplot as plt\n",
    "import seaborn as sns\n",
    "%matplotlib inline\n",
    "from sklearn.model_selection import train_test_split"
   ]
  },
  {
   "cell_type": "code",
   "execution_count": 2,
   "id": "4028dc42",
   "metadata": {},
   "outputs": [],
   "source": [
    "data = pd.read_table(\"task5_train_user_wlabel.tsv\")"
   ]
  },
  {
   "cell_type": "code",
   "execution_count": 3,
   "id": "2f572e20",
   "metadata": {},
   "outputs": [
    {
     "name": "stdout",
     "output_type": "stream",
     "text": [
      "(10051, 3)\n"
     ]
    }
   ],
   "source": [
    "print(data.shape)"
   ]
  },
  {
   "cell_type": "code",
   "execution_count": 4,
   "id": "f1f18e7a",
   "metadata": {},
   "outputs": [
    {
     "data": {
      "text/html": [
       "<div>\n",
       "<style scoped>\n",
       "    .dataframe tbody tr th:only-of-type {\n",
       "        vertical-align: middle;\n",
       "    }\n",
       "\n",
       "    .dataframe tbody tr th {\n",
       "        vertical-align: top;\n",
       "    }\n",
       "\n",
       "    .dataframe thead th {\n",
       "        text-align: right;\n",
       "    }\n",
       "</style>\n",
       "<table border=\"1\" class=\"dataframe\">\n",
       "  <thead>\n",
       "    <tr style=\"text-align: right;\">\n",
       "      <th></th>\n",
       "      <th>tweet_id</th>\n",
       "      <th>tweet_text</th>\n",
       "      <th>label</th>\n",
       "    </tr>\n",
       "  </thead>\n",
       "  <tbody>\n",
       "    <tr>\n",
       "      <th>0</th>\n",
       "      <td>103856</td>\n",
       "      <td>Un estudio demuestra que los niños pueden ser ...</td>\n",
       "      <td>Lit-News_mentions</td>\n",
       "    </tr>\n",
       "    <tr>\n",
       "      <th>1</th>\n",
       "      <td>102562</td>\n",
       "      <td>Los pacientes y contactos asintomáticos pueden...</td>\n",
       "      <td>Lit-News_mentions</td>\n",
       "    </tr>\n",
       "    <tr>\n",
       "      <th>2</th>\n",
       "      <td>104842</td>\n",
       "      <td>Establecen en Gaceta Oficial baremos de costos...</td>\n",
       "      <td>Lit-News_mentions</td>\n",
       "    </tr>\n",
       "  </tbody>\n",
       "</table>\n",
       "</div>"
      ],
      "text/plain": [
       "   tweet_id                                         tweet_text  \\\n",
       "0    103856  Un estudio demuestra que los niños pueden ser ...   \n",
       "1    102562  Los pacientes y contactos asintomáticos pueden...   \n",
       "2    104842  Establecen en Gaceta Oficial baremos de costos...   \n",
       "\n",
       "               label  \n",
       "0  Lit-News_mentions  \n",
       "1  Lit-News_mentions  \n",
       "2  Lit-News_mentions  "
      ]
     },
     "execution_count": 4,
     "metadata": {},
     "output_type": "execute_result"
    }
   ],
   "source": [
    "data.head(3)"
   ]
  },
  {
   "cell_type": "code",
   "execution_count": 6,
   "id": "15bd34c6",
   "metadata": {},
   "outputs": [
    {
     "name": "stdout",
     "output_type": "stream",
     "text": [
      "<class 'pandas.core.frame.DataFrame'>\n",
      "RangeIndex: 10051 entries, 0 to 10050\n",
      "Data columns (total 3 columns):\n",
      " #   Column      Non-Null Count  Dtype \n",
      "---  ------      --------------  ----- \n",
      " 0   tweet_id    10051 non-null  int64 \n",
      " 1   tweet_text  10051 non-null  object\n",
      " 2   label       10051 non-null  object\n",
      "dtypes: int64(1), object(2)\n",
      "memory usage: 235.7+ KB\n"
     ]
    }
   ],
   "source": [
    "data.info()"
   ]
  },
  {
   "cell_type": "code",
   "execution_count": 7,
   "id": "763419f4",
   "metadata": {},
   "outputs": [
    {
     "data": {
      "text/plain": [
       "array(['Lit-News_mentions', 'non-personal_reports', 'Self_reports'],\n",
       "      dtype=object)"
      ]
     },
     "execution_count": 7,
     "metadata": {},
     "output_type": "execute_result"
    }
   ],
   "source": [
    "data['label'].unique()"
   ]
  },
  {
   "cell_type": "code",
   "execution_count": 8,
   "id": "6b49a421",
   "metadata": {},
   "outputs": [
    {
     "data": {
      "text/plain": [
       "'Un estudio demuestra que los niños pueden ser \"portadores ocultos\" del coronavirus https://t.co/T1zqOgMY56'"
      ]
     },
     "execution_count": 8,
     "metadata": {},
     "output_type": "execute_result"
    }
   ],
   "source": [
    "data[data['label'] == 'Lit-News_mentions']['tweet_text'][0]"
   ]
  },
  {
   "cell_type": "code",
   "execution_count": 9,
   "id": "2d6f5cb0",
   "metadata": {},
   "outputs": [
    {
     "data": {
      "text/plain": [
       "'Anoche descubrí que el coronavirus sí que me ha quitado un poquito de olfato.En mi casa celebramos el día de la madre ayer porque antes no se pudo, mi regalo lo habían perfumado al comprarlo y toda la familia decía que olía muy bien ._. yo no olí nada hasta pasado un buen rato.'"
      ]
     },
     "execution_count": 9,
     "metadata": {},
     "output_type": "execute_result"
    }
   ],
   "source": [
    "data[data['label'] == 'Self_reports']['tweet_text'][6]"
   ]
  },
  {
   "cell_type": "code",
   "execution_count": 10,
   "id": "7a6cb066",
   "metadata": {},
   "outputs": [
    {
     "data": {
      "text/plain": [
       "'El coronavirus me enseño lo malagradecida que fui tantos años con mi familia, en especial con mi madre y no saben cuanto voy a cambiar y trabajar para darle una vida tan buena como me la dio a mi.'"
      ]
     },
     "execution_count": 10,
     "metadata": {},
     "output_type": "execute_result"
    }
   ],
   "source": [
    "data[data['label'] == 'non-personal_reports']['tweet_text'][5]"
   ]
  },
  {
   "cell_type": "code",
   "execution_count": 11,
   "id": "ca829a6c",
   "metadata": {},
   "outputs": [
    {
     "data": {
      "text/plain": [
       "Lit-News_mentions       5984\n",
       "non-personal_reports    2413\n",
       "Self_reports            1654\n",
       "Name: label, dtype: int64"
      ]
     },
     "execution_count": 11,
     "metadata": {},
     "output_type": "execute_result"
    }
   ],
   "source": [
    "data['label'].value_counts()"
   ]
  },
  {
   "cell_type": "code",
   "execution_count": 12,
   "id": "2057d447",
   "metadata": {},
   "outputs": [
    {
     "data": {
      "text/plain": [
       "<AxesSubplot:title={'center':'Number of Tweets by Category'}, xlabel='label'>"
      ]
     },
     "execution_count": 12,
     "metadata": {},
     "output_type": "execute_result"
    },
    {
     "data": {
      "image/png": "[encoded data removed]",
      "text/plain": [
       "<Figure size 432x288 with 1 Axes>"
      ]
     },
     "metadata": {
      "needs_background": "light"
     },
     "output_type": "display_data"
    }
   ],
   "source": [
    "data.groupby('label').tweet_text.count().plot.bar(title='Number of Tweets by Category')"
   ]
  },
  {
   "cell_type": "code",
   "execution_count": 13,
   "id": "db428115",
   "metadata": {},
   "outputs": [],
   "source": [
    "X = data[['tweet_id', 'tweet_text']]\n",
    "y = data.loc[:, ['label']]"
   ]
  },
  {
   "cell_type": "code",
   "execution_count": 14,
   "id": "9ffd5262",
   "metadata": {},
   "outputs": [],
   "source": [
    "X_train, X_test, y_train, y_test = train_test_split(X, y, random_state=0, train_size = .8)"
   ]
  },
  {
   "cell_type": "code",
   "execution_count": 15,
   "id": "775f0bf7",
   "metadata": {},
   "outputs": [
    {
     "data": {
      "text/html": [
       "<div>\n",
       "<style scoped>\n",
       "    .dataframe tbody tr th:only-of-type {\n",
       "        vertical-align: middle;\n",
       "    }\n",
       "\n",
       "    .dataframe tbody tr th {\n",
       "        vertical-align: top;\n",
       "    }\n",
       "\n",
       "    .dataframe thead th {\n",
       "        text-align: right;\n",
       "    }\n",
       "</style>\n",
       "<table border=\"1\" class=\"dataframe\">\n",
       "  <thead>\n",
       "    <tr style=\"text-align: right;\">\n",
       "      <th></th>\n",
       "      <th>tweet_id</th>\n",
       "      <th>tweet_text</th>\n",
       "    </tr>\n",
       "  </thead>\n",
       "  <tbody>\n",
       "    <tr>\n",
       "      <th>7495</th>\n",
       "      <td>102716</td>\n",
       "      <td>Los síntomas de la COVID-19 pueden variar de l...</td>\n",
       "    </tr>\n",
       "    <tr>\n",
       "      <th>5777</th>\n",
       "      <td>201289</td>\n",
       "      <td>Dolor de garganta y de todo el cuerpo, toca ir...</td>\n",
       "    </tr>\n",
       "    <tr>\n",
       "      <th>4234</th>\n",
       "      <td>301102</td>\n",
       "      <td>\"Mi mujer ha dado positivo y ha tenido fiebre ...</td>\n",
       "    </tr>\n",
       "    <tr>\n",
       "      <th>6940</th>\n",
       "      <td>105895</td>\n",
       "      <td>Destaca que algunos de los datos que se contie...</td>\n",
       "    </tr>\n",
       "    <tr>\n",
       "      <th>7205</th>\n",
       "      <td>201322</td>\n",
       "      <td>No he tenido tiempo de tuitear pero me di un c...</td>\n",
       "    </tr>\n",
       "    <tr>\n",
       "      <th>...</th>\n",
       "      <td>...</td>\n",
       "      <td>...</td>\n",
       "    </tr>\n",
       "    <tr>\n",
       "      <th>9225</th>\n",
       "      <td>102976</td>\n",
       "      <td>REALISMO Y SALUD (COVID-19)Webmaster: Víctor L...</td>\n",
       "    </tr>\n",
       "    <tr>\n",
       "      <th>4859</th>\n",
       "      <td>200226</td>\n",
       "      <td>Me acaban de notificar que tengo COVID-19 , me...</td>\n",
       "    </tr>\n",
       "    <tr>\n",
       "      <th>3264</th>\n",
       "      <td>200844</td>\n",
       "      <td>Ahora con dolor de cabeza me pueden considerar...</td>\n",
       "    </tr>\n",
       "    <tr>\n",
       "      <th>9845</th>\n",
       "      <td>100156</td>\n",
       "      <td>Identifica los síntomas de alarma y para solic...</td>\n",
       "    </tr>\n",
       "    <tr>\n",
       "      <th>2732</th>\n",
       "      <td>105546</td>\n",
       "      <td>Esta es la razón por la que la COVID-19 hace q...</td>\n",
       "    </tr>\n",
       "  </tbody>\n",
       "</table>\n",
       "<p>8040 rows × 2 columns</p>\n",
       "</div>"
      ],
      "text/plain": [
       "      tweet_id                                         tweet_text\n",
       "7495    102716  Los síntomas de la COVID-19 pueden variar de l...\n",
       "5777    201289  Dolor de garganta y de todo el cuerpo, toca ir...\n",
       "4234    301102  \"Mi mujer ha dado positivo y ha tenido fiebre ...\n",
       "6940    105895  Destaca que algunos de los datos que se contie...\n",
       "7205    201322  No he tenido tiempo de tuitear pero me di un c...\n",
       "...        ...                                                ...\n",
       "9225    102976  REALISMO Y SALUD (COVID-19)Webmaster: Víctor L...\n",
       "4859    200226  Me acaban de notificar que tengo COVID-19 , me...\n",
       "3264    200844  Ahora con dolor de cabeza me pueden considerar...\n",
       "9845    100156  Identifica los síntomas de alarma y para solic...\n",
       "2732    105546  Esta es la razón por la que la COVID-19 hace q...\n",
       "\n",
       "[8040 rows x 2 columns]"
      ]
     },
     "execution_count": 15,
     "metadata": {},
     "output_type": "execute_result"
    }
   ],
   "source": [
    "X_train"
   ]
  },
  {
   "cell_type": "code",
   "execution_count": 16,
   "id": "64dc450e",
   "metadata": {},
   "outputs": [
    {
     "data": {
      "text/html": [
       "<div>\n",
       "<style scoped>\n",
       "    .dataframe tbody tr th:only-of-type {\n",
       "        vertical-align: middle;\n",
       "    }\n",
       "\n",
       "    .dataframe tbody tr th {\n",
       "        vertical-align: top;\n",
       "    }\n",
       "\n",
       "    .dataframe thead th {\n",
       "        text-align: right;\n",
       "    }\n",
       "</style>\n",
       "<table border=\"1\" class=\"dataframe\">\n",
       "  <thead>\n",
       "    <tr style=\"text-align: right;\">\n",
       "      <th></th>\n",
       "      <th>label</th>\n",
       "    </tr>\n",
       "  </thead>\n",
       "  <tbody>\n",
       "    <tr>\n",
       "      <th>7495</th>\n",
       "      <td>Lit-News_mentions</td>\n",
       "    </tr>\n",
       "    <tr>\n",
       "      <th>5777</th>\n",
       "      <td>Self_reports</td>\n",
       "    </tr>\n",
       "    <tr>\n",
       "      <th>4234</th>\n",
       "      <td>non-personal_reports</td>\n",
       "    </tr>\n",
       "    <tr>\n",
       "      <th>6940</th>\n",
       "      <td>Lit-News_mentions</td>\n",
       "    </tr>\n",
       "    <tr>\n",
       "      <th>7205</th>\n",
       "      <td>Self_reports</td>\n",
       "    </tr>\n",
       "    <tr>\n",
       "      <th>...</th>\n",
       "      <td>...</td>\n",
       "    </tr>\n",
       "    <tr>\n",
       "      <th>9225</th>\n",
       "      <td>Lit-News_mentions</td>\n",
       "    </tr>\n",
       "    <tr>\n",
       "      <th>4859</th>\n",
       "      <td>Self_reports</td>\n",
       "    </tr>\n",
       "    <tr>\n",
       "      <th>3264</th>\n",
       "      <td>Self_reports</td>\n",
       "    </tr>\n",
       "    <tr>\n",
       "      <th>9845</th>\n",
       "      <td>Lit-News_mentions</td>\n",
       "    </tr>\n",
       "    <tr>\n",
       "      <th>2732</th>\n",
       "      <td>Lit-News_mentions</td>\n",
       "    </tr>\n",
       "  </tbody>\n",
       "</table>\n",
       "<p>8040 rows × 1 columns</p>\n",
       "</div>"
      ],
      "text/plain": [
       "                     label\n",
       "7495     Lit-News_mentions\n",
       "5777          Self_reports\n",
       "4234  non-personal_reports\n",
       "6940     Lit-News_mentions\n",
       "7205          Self_reports\n",
       "...                    ...\n",
       "9225     Lit-News_mentions\n",
       "4859          Self_reports\n",
       "3264          Self_reports\n",
       "9845     Lit-News_mentions\n",
       "2732     Lit-News_mentions\n",
       "\n",
       "[8040 rows x 1 columns]"
      ]
     },
     "execution_count": 16,
     "metadata": {},
     "output_type": "execute_result"
    }
   ],
   "source": [
    "y_train"
   ]
  },
  {
   "cell_type": "code",
   "execution_count": 17,
   "id": "89658e64",
   "metadata": {},
   "outputs": [
    {
     "data": {
      "text/html": [
       "<div>\n",
       "<style scoped>\n",
       "    .dataframe tbody tr th:only-of-type {\n",
       "        vertical-align: middle;\n",
       "    }\n",
       "\n",
       "    .dataframe tbody tr th {\n",
       "        vertical-align: top;\n",
       "    }\n",
       "\n",
       "    .dataframe thead th {\n",
       "        text-align: right;\n",
       "    }\n",
       "</style>\n",
       "<table border=\"1\" class=\"dataframe\">\n",
       "  <thead>\n",
       "    <tr style=\"text-align: right;\">\n",
       "      <th></th>\n",
       "      <th>tweet_id</th>\n",
       "      <th>tweet_text</th>\n",
       "    </tr>\n",
       "  </thead>\n",
       "  <tbody>\n",
       "    <tr>\n",
       "      <th>7990</th>\n",
       "      <td>100460</td>\n",
       "      <td>Esta farmacéutica garantiza la producción de 2...</td>\n",
       "    </tr>\n",
       "    <tr>\n",
       "      <th>9703</th>\n",
       "      <td>301908</td>\n",
       "      <td>Dormir con la ventana abierta porque hace calo...</td>\n",
       "    </tr>\n",
       "    <tr>\n",
       "      <th>5528</th>\n",
       "      <td>300889</td>\n",
       "      <td>@pdhernandezf @roa_flores Los test de coronavi...</td>\n",
       "    </tr>\n",
       "    <tr>\n",
       "      <th>1804</th>\n",
       "      <td>101501</td>\n",
       "      <td>La Universidad de Buenos Aires entrena perros ...</td>\n",
       "    </tr>\n",
       "    <tr>\n",
       "      <th>226</th>\n",
       "      <td>105013</td>\n",
       "      <td>Mi amiga Nancy tiene #Coronavirus està aislada...</td>\n",
       "    </tr>\n",
       "    <tr>\n",
       "      <th>...</th>\n",
       "      <td>...</td>\n",
       "      <td>...</td>\n",
       "    </tr>\n",
       "    <tr>\n",
       "      <th>7863</th>\n",
       "      <td>301284</td>\n",
       "      <td>Al momento de su secuestro, el diputado @TonyG...</td>\n",
       "    </tr>\n",
       "    <tr>\n",
       "      <th>1868</th>\n",
       "      <td>100251</td>\n",
       "      <td>Finlandia recurre a perros para detectar el Co...</td>\n",
       "    </tr>\n",
       "    <tr>\n",
       "      <th>3192</th>\n",
       "      <td>103444</td>\n",
       "      <td>📢 Si presentas algunos de estos síntomas: male...</td>\n",
       "    </tr>\n",
       "    <tr>\n",
       "      <th>9815</th>\n",
       "      <td>104896</td>\n",
       "      <td>Si presenta síntomas propios del #Coronavirus ...</td>\n",
       "    </tr>\n",
       "    <tr>\n",
       "      <th>2308</th>\n",
       "      <td>102665</td>\n",
       "      <td>🗞️ Esta es la razón por la que la COVID-19 hac...</td>\n",
       "    </tr>\n",
       "  </tbody>\n",
       "</table>\n",
       "<p>2011 rows × 2 columns</p>\n",
       "</div>"
      ],
      "text/plain": [
       "      tweet_id                                         tweet_text\n",
       "7990    100460  Esta farmacéutica garantiza la producción de 2...\n",
       "9703    301908  Dormir con la ventana abierta porque hace calo...\n",
       "5528    300889  @pdhernandezf @roa_flores Los test de coronavi...\n",
       "1804    101501  La Universidad de Buenos Aires entrena perros ...\n",
       "226     105013  Mi amiga Nancy tiene #Coronavirus està aislada...\n",
       "...        ...                                                ...\n",
       "7863    301284  Al momento de su secuestro, el diputado @TonyG...\n",
       "1868    100251  Finlandia recurre a perros para detectar el Co...\n",
       "3192    103444  📢 Si presentas algunos de estos síntomas: male...\n",
       "9815    104896  Si presenta síntomas propios del #Coronavirus ...\n",
       "2308    102665  🗞️ Esta es la razón por la que la COVID-19 hac...\n",
       "\n",
       "[2011 rows x 2 columns]"
      ]
     },
     "execution_count": 17,
     "metadata": {},
     "output_type": "execute_result"
    }
   ],
   "source": [
    "X_test"
   ]
  },
  {
   "cell_type": "code",
   "execution_count": 18,
   "id": "ae7a5678",
   "metadata": {},
   "outputs": [
    {
     "data": {
      "text/html": [
       "<div>\n",
       "<style scoped>\n",
       "    .dataframe tbody tr th:only-of-type {\n",
       "        vertical-align: middle;\n",
       "    }\n",
       "\n",
       "    .dataframe tbody tr th {\n",
       "        vertical-align: top;\n",
       "    }\n",
       "\n",
       "    .dataframe thead th {\n",
       "        text-align: right;\n",
       "    }\n",
       "</style>\n",
       "<table border=\"1\" class=\"dataframe\">\n",
       "  <thead>\n",
       "    <tr style=\"text-align: right;\">\n",
       "      <th></th>\n",
       "      <th>label</th>\n",
       "    </tr>\n",
       "  </thead>\n",
       "  <tbody>\n",
       "    <tr>\n",
       "      <th>7990</th>\n",
       "      <td>Lit-News_mentions</td>\n",
       "    </tr>\n",
       "    <tr>\n",
       "      <th>9703</th>\n",
       "      <td>non-personal_reports</td>\n",
       "    </tr>\n",
       "    <tr>\n",
       "      <th>5528</th>\n",
       "      <td>non-personal_reports</td>\n",
       "    </tr>\n",
       "    <tr>\n",
       "      <th>1804</th>\n",
       "      <td>Lit-News_mentions</td>\n",
       "    </tr>\n",
       "    <tr>\n",
       "      <th>226</th>\n",
       "      <td>Lit-News_mentions</td>\n",
       "    </tr>\n",
       "    <tr>\n",
       "      <th>...</th>\n",
       "      <td>...</td>\n",
       "    </tr>\n",
       "    <tr>\n",
       "      <th>7863</th>\n",
       "      <td>non-personal_reports</td>\n",
       "    </tr>\n",
       "    <tr>\n",
       "      <th>1868</th>\n",
       "      <td>Lit-News_mentions</td>\n",
       "    </tr>\n",
       "    <tr>\n",
       "      <th>3192</th>\n",
       "      <td>Lit-News_mentions</td>\n",
       "    </tr>\n",
       "    <tr>\n",
       "      <th>9815</th>\n",
       "      <td>Lit-News_mentions</td>\n",
       "    </tr>\n",
       "    <tr>\n",
       "      <th>2308</th>\n",
       "      <td>Lit-News_mentions</td>\n",
       "    </tr>\n",
       "  </tbody>\n",
       "</table>\n",
       "<p>2011 rows × 1 columns</p>\n",
       "</div>"
      ],
      "text/plain": [
       "                     label\n",
       "7990     Lit-News_mentions\n",
       "9703  non-personal_reports\n",
       "5528  non-personal_reports\n",
       "1804     Lit-News_mentions\n",
       "226      Lit-News_mentions\n",
       "...                    ...\n",
       "7863  non-personal_reports\n",
       "1868     Lit-News_mentions\n",
       "3192     Lit-News_mentions\n",
       "9815     Lit-News_mentions\n",
       "2308     Lit-News_mentions\n",
       "\n",
       "[2011 rows x 1 columns]"
      ]
     },
     "execution_count": 18,
     "metadata": {},
     "output_type": "execute_result"
    }
   ],
   "source": [
    "y_test"
   ]
  },
  {
   "cell_type": "code",
   "execution_count": 19,
   "id": "067e21b3",
   "metadata": {},
   "outputs": [],
   "source": [
    "train = pd.concat([X_train, y_train], axis=1)"
   ]
  },
  {
   "cell_type": "code",
   "execution_count": 20,
   "id": "4f72ddae",
   "metadata": {},
   "outputs": [],
   "source": [
    "train.to_csv(\"train.tsv\", sep=\"\\t\", index = False)"
   ]
  },
  {
   "cell_type": "code",
   "execution_count": 21,
   "id": "96d866ab",
   "metadata": {},
   "outputs": [],
   "source": [
    "dev = pd.concat([X_test, y_test], axis=1)"
   ]
  },
  {
   "cell_type": "code",
   "execution_count": 22,
   "id": "5d321642",
   "metadata": {},
   "outputs": [],
   "source": [
    "dev.to_csv(\"dev.tsv\", sep=\"\\t\", index = False)"
   ]
  },
  {
   "cell_type": "code",
   "execution_count": null,
   "id": "eb9ffb39",
   "metadata": {},
   "outputs": [],
   "source": []
  }
 ],
 "metadata": {
  "kernelspec": {
   "display_name": "Python 3",
   "language": "python",
   "name": "python3"
  },
  "language_info": {
   "codemirror_mode": {
    "name": "ipython",
    "version": 3
   },
   "file_extension": ".py",
   "mimetype": "text/x-python",
   "name": "python",
   "nbconvert_exporter": "python",
   "pygments_lexer": "ipython3",
   "version": "3.6.9"
  }
 },
 "nbformat": 4,
 "nbformat_minor": 5
}
