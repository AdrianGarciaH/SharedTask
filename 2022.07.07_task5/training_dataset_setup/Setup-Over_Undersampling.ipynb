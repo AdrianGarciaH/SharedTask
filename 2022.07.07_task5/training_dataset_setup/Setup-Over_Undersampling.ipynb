{
 "cells": [
  {
   "cell_type": "code",
   "execution_count": 1,
   "id": "47eb8570",
   "metadata": {},
   "outputs": [],
   "source": [
    "#Set up\n",
    "import numpy as np\n",
    "import imblearn\n",
    "import pandas as pd\n",
    "import matplotlib.pyplot as plt\n",
    "import seaborn as sns\n",
    "%matplotlib inline\n",
    "from sklearn.model_selection import train_test_split"
   ]
  },
  {
   "cell_type": "code",
   "execution_count": 2,
   "id": "4028dc42",
   "metadata": {},
   "outputs": [],
   "source": [
    "train_data = pd.read_table(\"train.tsv\")"
   ]
  },
  {
   "cell_type": "code",
   "execution_count": 3,
   "id": "eba15b08",
   "metadata": {},
   "outputs": [
    {
     "data": {
      "text/plain": [
       "<AxesSubplot:title={'center':'Number of Tweets by Category'}, xlabel='label'>"
      ]
     },
     "execution_count": 3,
     "metadata": {},
     "output_type": "execute_result"
    },
    {
     "data": {
      "image/png": "[encoded data removed]",
      "text/plain": [
       "<Figure size 432x288 with 1 Axes>"
      ]
     },
     "metadata": {
      "needs_background": "light"
     },
     "output_type": "display_data"
    }
   ],
   "source": [
    "train_data.groupby('label').tweet_text.count().plot.bar(title='Number of Tweets by Category')\n"
   ]
  },
  {
   "cell_type": "code",
   "execution_count": 11,
   "id": "7177d77d",
   "metadata": {},
   "outputs": [
    {
     "data": {
      "text/html": [
       "<div>\n",
       "<style scoped>\n",
       "    .dataframe tbody tr th:only-of-type {\n",
       "        vertical-align: middle;\n",
       "    }\n",
       "\n",
       "    .dataframe tbody tr th {\n",
       "        vertical-align: top;\n",
       "    }\n",
       "\n",
       "    .dataframe thead th {\n",
       "        text-align: right;\n",
       "    }\n",
       "</style>\n",
       "<table border=\"1\" class=\"dataframe\">\n",
       "  <thead>\n",
       "    <tr style=\"text-align: right;\">\n",
       "      <th></th>\n",
       "      <th>tweet_id</th>\n",
       "      <th>tweet_text</th>\n",
       "      <th>label</th>\n",
       "    </tr>\n",
       "  </thead>\n",
       "  <tbody>\n",
       "    <tr>\n",
       "      <th>0</th>\n",
       "      <td>102716</td>\n",
       "      <td>Los síntomas de la COVID-19 pueden variar de l...</td>\n",
       "      <td>Lit-News_mentions</td>\n",
       "    </tr>\n",
       "    <tr>\n",
       "      <th>1</th>\n",
       "      <td>201289</td>\n",
       "      <td>Dolor de garganta y de todo el cuerpo, toca ir...</td>\n",
       "      <td>Self_reports</td>\n",
       "    </tr>\n",
       "    <tr>\n",
       "      <th>2</th>\n",
       "      <td>301102</td>\n",
       "      <td>\"Mi mujer ha dado positivo y ha tenido fiebre ...</td>\n",
       "      <td>non-personal_reports</td>\n",
       "    </tr>\n",
       "    <tr>\n",
       "      <th>3</th>\n",
       "      <td>105895</td>\n",
       "      <td>Destaca que algunos de los datos que se contie...</td>\n",
       "      <td>Lit-News_mentions</td>\n",
       "    </tr>\n",
       "    <tr>\n",
       "      <th>4</th>\n",
       "      <td>201322</td>\n",
       "      <td>No he tenido tiempo de tuitear pero me di un c...</td>\n",
       "      <td>Self_reports</td>\n",
       "    </tr>\n",
       "    <tr>\n",
       "      <th>...</th>\n",
       "      <td>...</td>\n",
       "      <td>...</td>\n",
       "      <td>...</td>\n",
       "    </tr>\n",
       "    <tr>\n",
       "      <th>8035</th>\n",
       "      <td>102976</td>\n",
       "      <td>REALISMO Y SALUD (COVID-19)Webmaster: Víctor L...</td>\n",
       "      <td>Lit-News_mentions</td>\n",
       "    </tr>\n",
       "    <tr>\n",
       "      <th>8036</th>\n",
       "      <td>200226</td>\n",
       "      <td>Me acaban de notificar que tengo COVID-19 , me...</td>\n",
       "      <td>Self_reports</td>\n",
       "    </tr>\n",
       "    <tr>\n",
       "      <th>8037</th>\n",
       "      <td>200844</td>\n",
       "      <td>Ahora con dolor de cabeza me pueden considerar...</td>\n",
       "      <td>Self_reports</td>\n",
       "    </tr>\n",
       "    <tr>\n",
       "      <th>8038</th>\n",
       "      <td>100156</td>\n",
       "      <td>Identifica los síntomas de alarma y para solic...</td>\n",
       "      <td>Lit-News_mentions</td>\n",
       "    </tr>\n",
       "    <tr>\n",
       "      <th>8039</th>\n",
       "      <td>105546</td>\n",
       "      <td>Esta es la razón por la que la COVID-19 hace q...</td>\n",
       "      <td>Lit-News_mentions</td>\n",
       "    </tr>\n",
       "  </tbody>\n",
       "</table>\n",
       "<p>8040 rows × 3 columns</p>\n",
       "</div>"
      ],
      "text/plain": [
       "      tweet_id                                         tweet_text  \\\n",
       "0       102716  Los síntomas de la COVID-19 pueden variar de l...   \n",
       "1       201289  Dolor de garganta y de todo el cuerpo, toca ir...   \n",
       "2       301102  \"Mi mujer ha dado positivo y ha tenido fiebre ...   \n",
       "3       105895  Destaca que algunos de los datos que se contie...   \n",
       "4       201322  No he tenido tiempo de tuitear pero me di un c...   \n",
       "...        ...                                                ...   \n",
       "8035    102976  REALISMO Y SALUD (COVID-19)Webmaster: Víctor L...   \n",
       "8036    200226  Me acaban de notificar que tengo COVID-19 , me...   \n",
       "8037    200844  Ahora con dolor de cabeza me pueden considerar...   \n",
       "8038    100156  Identifica los síntomas de alarma y para solic...   \n",
       "8039    105546  Esta es la razón por la que la COVID-19 hace q...   \n",
       "\n",
       "                     label  \n",
       "0        Lit-News_mentions  \n",
       "1             Self_reports  \n",
       "2     non-personal_reports  \n",
       "3        Lit-News_mentions  \n",
       "4             Self_reports  \n",
       "...                    ...  \n",
       "8035     Lit-News_mentions  \n",
       "8036          Self_reports  \n",
       "8037          Self_reports  \n",
       "8038     Lit-News_mentions  \n",
       "8039     Lit-News_mentions  \n",
       "\n",
       "[8040 rows x 3 columns]"
      ]
     },
     "execution_count": 11,
     "metadata": {},
     "output_type": "execute_result"
    }
   ],
   "source": [
    "train_data"
   ]
  },
  {
   "cell_type": "code",
   "execution_count": 13,
   "id": "004f06ae",
   "metadata": {},
   "outputs": [],
   "source": [
    "X_train = train_data[['tweet_id', 'tweet_text']]\n",
    "y_train = train_data['label']"
   ]
  },
  {
   "cell_type": "code",
   "execution_count": 14,
   "id": "85f07e1c",
   "metadata": {},
   "outputs": [
    {
     "data": {
      "text/html": [
       "<div>\n",
       "<style scoped>\n",
       "    .dataframe tbody tr th:only-of-type {\n",
       "        vertical-align: middle;\n",
       "    }\n",
       "\n",
       "    .dataframe tbody tr th {\n",
       "        vertical-align: top;\n",
       "    }\n",
       "\n",
       "    .dataframe thead th {\n",
       "        text-align: right;\n",
       "    }\n",
       "</style>\n",
       "<table border=\"1\" class=\"dataframe\">\n",
       "  <thead>\n",
       "    <tr style=\"text-align: right;\">\n",
       "      <th></th>\n",
       "      <th>tweet_id</th>\n",
       "      <th>tweet_text</th>\n",
       "    </tr>\n",
       "  </thead>\n",
       "  <tbody>\n",
       "    <tr>\n",
       "      <th>0</th>\n",
       "      <td>102716</td>\n",
       "      <td>Los síntomas de la COVID-19 pueden variar de l...</td>\n",
       "    </tr>\n",
       "    <tr>\n",
       "      <th>1</th>\n",
       "      <td>201289</td>\n",
       "      <td>Dolor de garganta y de todo el cuerpo, toca ir...</td>\n",
       "    </tr>\n",
       "    <tr>\n",
       "      <th>2</th>\n",
       "      <td>301102</td>\n",
       "      <td>\"Mi mujer ha dado positivo y ha tenido fiebre ...</td>\n",
       "    </tr>\n",
       "    <tr>\n",
       "      <th>3</th>\n",
       "      <td>105895</td>\n",
       "      <td>Destaca que algunos de los datos que se contie...</td>\n",
       "    </tr>\n",
       "    <tr>\n",
       "      <th>4</th>\n",
       "      <td>201322</td>\n",
       "      <td>No he tenido tiempo de tuitear pero me di un c...</td>\n",
       "    </tr>\n",
       "    <tr>\n",
       "      <th>...</th>\n",
       "      <td>...</td>\n",
       "      <td>...</td>\n",
       "    </tr>\n",
       "    <tr>\n",
       "      <th>8035</th>\n",
       "      <td>102976</td>\n",
       "      <td>REALISMO Y SALUD (COVID-19)Webmaster: Víctor L...</td>\n",
       "    </tr>\n",
       "    <tr>\n",
       "      <th>8036</th>\n",
       "      <td>200226</td>\n",
       "      <td>Me acaban de notificar que tengo COVID-19 , me...</td>\n",
       "    </tr>\n",
       "    <tr>\n",
       "      <th>8037</th>\n",
       "      <td>200844</td>\n",
       "      <td>Ahora con dolor de cabeza me pueden considerar...</td>\n",
       "    </tr>\n",
       "    <tr>\n",
       "      <th>8038</th>\n",
       "      <td>100156</td>\n",
       "      <td>Identifica los síntomas de alarma y para solic...</td>\n",
       "    </tr>\n",
       "    <tr>\n",
       "      <th>8039</th>\n",
       "      <td>105546</td>\n",
       "      <td>Esta es la razón por la que la COVID-19 hace q...</td>\n",
       "    </tr>\n",
       "  </tbody>\n",
       "</table>\n",
       "<p>8040 rows × 2 columns</p>\n",
       "</div>"
      ],
      "text/plain": [
       "      tweet_id                                         tweet_text\n",
       "0       102716  Los síntomas de la COVID-19 pueden variar de l...\n",
       "1       201289  Dolor de garganta y de todo el cuerpo, toca ir...\n",
       "2       301102  \"Mi mujer ha dado positivo y ha tenido fiebre ...\n",
       "3       105895  Destaca que algunos de los datos que se contie...\n",
       "4       201322  No he tenido tiempo de tuitear pero me di un c...\n",
       "...        ...                                                ...\n",
       "8035    102976  REALISMO Y SALUD (COVID-19)Webmaster: Víctor L...\n",
       "8036    200226  Me acaban de notificar que tengo COVID-19 , me...\n",
       "8037    200844  Ahora con dolor de cabeza me pueden considerar...\n",
       "8038    100156  Identifica los síntomas de alarma y para solic...\n",
       "8039    105546  Esta es la razón por la que la COVID-19 hace q...\n",
       "\n",
       "[8040 rows x 2 columns]"
      ]
     },
     "execution_count": 14,
     "metadata": {},
     "output_type": "execute_result"
    }
   ],
   "source": [
    "X_train"
   ]
  },
  {
   "cell_type": "code",
   "execution_count": 23,
   "id": "7f759692",
   "metadata": {},
   "outputs": [
    {
     "data": {
      "text/plain": [
       "<bound method Series.unique of 0          Lit-News_mentions\n",
       "1               Self_reports\n",
       "2       non-personal_reports\n",
       "3          Lit-News_mentions\n",
       "4               Self_reports\n",
       "                ...         \n",
       "8035       Lit-News_mentions\n",
       "8036            Self_reports\n",
       "8037            Self_reports\n",
       "8038       Lit-News_mentions\n",
       "8039       Lit-News_mentions\n",
       "Name: label, Length: 8040, dtype: object>"
      ]
     },
     "execution_count": 23,
     "metadata": {},
     "output_type": "execute_result"
    }
   ],
   "source": [
    "y_train.unique"
   ]
  },
  {
   "cell_type": "code",
   "execution_count": 4,
   "id": "dfb2b751",
   "metadata": {},
   "outputs": [],
   "source": [
    "dev_data = pd.read_table(\"dev.tsv\")"
   ]
  },
  {
   "cell_type": "code",
   "execution_count": 6,
   "id": "8984b5ac",
   "metadata": {},
   "outputs": [
    {
     "data": {
      "text/plain": [
       "<AxesSubplot:title={'center':'Number of Tweets by Category'}, xlabel='label'>"
      ]
     },
     "execution_count": 6,
     "metadata": {},
     "output_type": "execute_result"
    },
    {
     "data": {
      "image/png": "[encoded data removed]",
      "text/plain": [
       "<Figure size 432x288 with 1 Axes>"
      ]
     },
     "metadata": {
      "needs_background": "light"
     },
     "output_type": "display_data"
    }
   ],
   "source": [
    "dev_data.groupby('label').tweet_text.count().plot.bar(title='Number of Tweets by Category')"
   ]
  },
  {
   "cell_type": "markdown",
   "id": "3d5e7b4b",
   "metadata": {},
   "source": [
    "# Lets over and undersample"
   ]
  },
  {
   "cell_type": "code",
   "execution_count": 8,
   "id": "77c378f2",
   "metadata": {},
   "outputs": [],
   "source": [
    "from imblearn.over_sampling import RandomOverSampler\n",
    "from imblearn.under_sampling import RandomUnderSampler"
   ]
  },
  {
   "cell_type": "code",
   "execution_count": 26,
   "id": "b6eb0f62",
   "metadata": {},
   "outputs": [],
   "source": [
    "#Oversampling our minority classes to be 70% of the majority class\n",
    "\n",
    "oversample=RandomOverSampler(sampling_strategy={'Lit-News_mentions': 4786, 'non-personal_reports': 3350,\n",
    "                                                'Self_reports': 3350}, random_state=123)"
   ]
  },
  {
   "cell_type": "code",
   "execution_count": 27,
   "id": "8b8a8b06",
   "metadata": {},
   "outputs": [],
   "source": [
    "X_train_over, y_train_over = oversample.fit_resample(X_train, y_train)"
   ]
  },
  {
   "cell_type": "code",
   "execution_count": 30,
   "id": "4d7f1cde",
   "metadata": {},
   "outputs": [],
   "source": [
    "train_oversample = pd.concat([X_train_over, y_train_over], axis=1)"
   ]
  },
  {
   "cell_type": "code",
   "execution_count": 31,
   "id": "6dc82f8b",
   "metadata": {},
   "outputs": [
    {
     "data": {
      "text/plain": [
       "<AxesSubplot:title={'center':'Number of Tweets by Category'}, xlabel='label'>"
      ]
     },
     "execution_count": 31,
     "metadata": {},
     "output_type": "execute_result"
    },
    {
     "data": {
      "image/png": "[encoded data removed]",
      "text/plain": [
       "<Figure size 432x288 with 1 Axes>"
      ]
     },
     "metadata": {
      "needs_background": "light"
     },
     "output_type": "display_data"
    }
   ],
   "source": [
    "train_oversample.groupby('label').tweet_text.count().plot.bar(title='Number of Tweets by Category')"
   ]
  },
  {
   "cell_type": "code",
   "execution_count": 32,
   "id": "edee2643",
   "metadata": {},
   "outputs": [],
   "source": [
    "#Undersampling our original majority class to be 80% or its original size\n",
    "undersample=RandomUnderSampler(sampling_strategy={'Lit-News_mentions': 3829, 'non-personal_reports': 3350,\n",
    "                                                'Self_reports': 3350}, random_state=123)"
   ]
  },
  {
   "cell_type": "code",
   "execution_count": 33,
   "id": "b71248b4",
   "metadata": {},
   "outputs": [],
   "source": [
    "X_train_overunder, y_train_overunder = undersample.fit_resample(X_train_over, y_train_over)"
   ]
  },
  {
   "cell_type": "code",
   "execution_count": 34,
   "id": "23602de6",
   "metadata": {},
   "outputs": [],
   "source": [
    "train_overundersample = pd.concat([X_train_overunder, y_train_overunder], axis=1)"
   ]
  },
  {
   "cell_type": "code",
   "execution_count": 35,
   "id": "fbee2a45",
   "metadata": {},
   "outputs": [
    {
     "data": {
      "text/plain": [
       "<AxesSubplot:title={'center':'Number of Tweets by Category'}, xlabel='label'>"
      ]
     },
     "execution_count": 35,
     "metadata": {},
     "output_type": "execute_result"
    },
    {
     "data": {
      "image/png": "[encoded data removed]",
      "text/plain": [
       "<Figure size 432x288 with 1 Axes>"
      ]
     },
     "metadata": {
      "needs_background": "light"
     },
     "output_type": "display_data"
    }
   ],
   "source": [
    "train_overundersample.groupby('label').tweet_text.count().plot.bar(title='Number of Tweets by Category')"
   ]
  },
  {
   "cell_type": "code",
   "execution_count": 36,
   "id": "335f04b3",
   "metadata": {},
   "outputs": [],
   "source": [
    "train_overundersample.to_csv(\"train_over_under_sample.tsv\", sep=\"\\t\", index = False)"
   ]
  },
  {
   "cell_type": "code",
   "execution_count": null,
   "id": "098308e5",
   "metadata": {},
   "outputs": [],
   "source": []
  },
  {
   "cell_type": "code",
   "execution_count": null,
   "id": "71f4ab5d",
   "metadata": {},
   "outputs": [],
   "source": []
  }
 ],
 "metadata": {
  "kernelspec": {
   "display_name": "Python 3",
   "language": "python",
   "name": "python3"
  },
  "language_info": {
   "codemirror_mode": {
    "name": "ipython",
    "version": 3
   },
   "file_extension": ".py",
   "mimetype": "text/x-python",
   "name": "python",
   "nbconvert_exporter": "python",
   "pygments_lexer": "ipython3",
   "version": "3.6.9"
  }
 },
 "nbformat": 4,
 "nbformat_minor": 5
}
