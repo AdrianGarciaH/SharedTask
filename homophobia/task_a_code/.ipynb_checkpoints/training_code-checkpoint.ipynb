{
 "cells": [
  {
   "cell_type": "code",
   "execution_count": 1,
   "id": "a7ea7f45",
   "metadata": {},
   "outputs": [],
   "source": [
    "import pandas as pd\n",
    "import numpy as np\n",
    "import torch\n",
    "from torch import cuda\n",
    "from torch.utils.data import Dataset, DataLoader\n",
    "from transformers import pipeline\n",
    "from transformers import AutoTokenizer, AutoModelForSequenceClassification\n",
    "from sklearn.metrics import accuracy_score, classification_report, precision_score, recall_score, f1_score\n",
    "from load_data import initialize_data\n",
    "from reading_datasets import read_task\n",
    "from labels_to_ids import labels_to_ids_kan\n",
    "import time\n",
    "import os\n",
    "os.environ[\"CUDA_VISIBLE_DEVICES\"]=\"0\""
   ]
  },
  {
   "cell_type": "code",
   "execution_count": 2,
   "id": "bcf25741",
   "metadata": {},
   "outputs": [],
   "source": [
    "def train(epoch, train_loader, model, optimizer, device, grad_step = 1, max_grad_norm = 10):\n",
    "    tr_loss, tr_accuracy = 0, 0\n",
    "    tr_precision, tr_recall = 0, 0\n",
    "    tr_f1score = 0\n",
    "    nb_tr_examples, nb_tr_steps = 0, 0\n",
    "    tr_preds, tr_labels = [], []\n",
    "    # put model in training mode\n",
    "    model.train()\n",
    "    optimizer.zero_grad()\n",
    "    \n",
    "    for idx, batch in enumerate(train_loader):\n",
    "        ids = batch['input_ids'].to(device, dtype = torch.long)\n",
    "        mask = batch['attention_mask'].to(device, dtype = torch.long)\n",
    "        labels = batch['labels'].to(device, dtype = torch.long)\n",
    "\n",
    "        if (idx + 1) % 20 == 0:\n",
    "            print('FINSIHED BATCH:', idx, 'of', len(train_loader))\n",
    "\n",
    "        #loss, tr_logits = model(input_ids=ids, attention_mask=mask, labels=labels)\n",
    "        output = model(input_ids=ids, attention_mask=mask, labels=labels)\n",
    "        tr_loss += output[0]\n",
    "\n",
    "        nb_tr_steps += 1\n",
    "        nb_tr_examples += labels.size(0)\n",
    "           \n",
    "        # compute training accuracy\n",
    "        flattened_targets = labels.view(-1) # shape (batch_size * seq_len,)\n",
    "        active_logits = output[1].view(-1, model.num_labels) # shape (batch_size * seq_len, num_labels)\n",
    "        flattened_predictions = torch.argmax(active_logits, axis=1) # shape (batch_size * seq_len,)\n",
    "        \n",
    "        # only compute accuracy at active labels\n",
    "        active_accuracy = labels.view(-1) != -100 # shape (batch_size, seq_len)\n",
    "        #active_labels = torch.where(active_accuracy, labels.view(-1), torch.tensor(-100).type_as(labels))\n",
    "        \n",
    "        labels = torch.masked_select(flattened_targets, active_accuracy)\n",
    "        predictions = torch.masked_select(flattened_predictions, active_accuracy)\n",
    "\n",
    "        tr_labels.extend(labels)\n",
    "        tr_preds.extend(predictions)\n",
    "\n",
    "        tmp_tr_accuracy = accuracy_score(labels.cpu().numpy(), predictions.cpu().numpy())\n",
    "        tr_accuracy += tmp_tr_accuracy\n",
    "        \n",
    "        # Compute Precision\n",
    "        tmp_tr_precision = precision_score(labels.cpu().numpy(), predictions.cpu().numpy(), average = 'macro', zero_division=0 )\n",
    "        tr_precision += tmp_tr_precision\n",
    "        \n",
    "        # Compute Recall\n",
    "        tmp_tr_recall = recall_score(labels.cpu().numpy(), predictions.cpu().numpy(), average = 'macro', zero_division=0)\n",
    "        tr_recall += tmp_tr_recall\n",
    "        \n",
    "        # Compute f1score\n",
    "        tmp_tr_f1score = f1_score(labels.cpu().numpy(), predictions.cpu().numpy(), average= 'macro', zero_division=0)\n",
    "        tr_f1score += tmp_tr_f1score\n",
    "    \n",
    "        # gradient clipping\n",
    "        torch.nn.utils.clip_grad_norm_(\n",
    "            parameters=model.parameters(), max_norm=max_grad_norm\n",
    "        )\n",
    "        \n",
    "        # backward pass\n",
    "        output['loss'].backward()\n",
    "        if (idx + 1) % grad_step == 0:\n",
    "            optimizer.step()\n",
    "            optimizer.zero_grad()\n",
    "\n",
    "    epoch_loss = tr_loss / nb_tr_steps\n",
    "    tr_accuracy = tr_accuracy / nb_tr_steps\n",
    "    tr_precision = tr_precision / nb_tr_steps\n",
    "    tr_recall = tr_recall / nb_tr_steps\n",
    "    tr_f1score= tr_f1score / nb_tr_steps\n",
    "    #print(f\"Training loss epoch: {epoch_loss}\")\n",
    "    #print(f\"Training accuracy epoch: {tr_accuracy}\")\n",
    "\n",
    "    return model"
   ]
  },
  {
   "cell_type": "code",
   "execution_count": 3,
   "id": "562ddd37",
   "metadata": {},
   "outputs": [],
   "source": [
    "def testing(model, testing_loader, labels_to_ids, device):\n",
    "    # put model in evaluation mode\n",
    "    model.eval()\n",
    "    \n",
    "    eval_loss, eval_accuracy = 0, 0\n",
    "    eval_precision, eval_recall = 0, 0\n",
    "    eval_f1score = 0\n",
    "    nb_eval_examples, nb_eval_steps = 0, 0\n",
    "    eval_preds, eval_labels = [], []\n",
    "     \n",
    "    \n",
    "    ids_to_labels = dict((v,k) for k,v in labels_to_ids.items())\n",
    "\n",
    "    with torch.no_grad():\n",
    "        for idx, batch in enumerate(testing_loader):\n",
    "            \n",
    "            ids = batch['input_ids'].to(device, dtype = torch.long)\n",
    "            mask = batch['attention_mask'].to(device, dtype = torch.long)\n",
    "            labels = batch['labels'].to(device, dtype = torch.long)\n",
    "            \n",
    "            #loss, eval_logits = model(input_ids=ids, attention_mask=mask, labels=labels)\n",
    "            output = model(input_ids=ids, attention_mask=mask, labels=labels)\n",
    "\n",
    "            eval_loss += output['loss'].item()\n",
    "\n",
    "            nb_eval_steps += 1\n",
    "            nb_eval_examples += labels.size(0)\n",
    "        \n",
    "            if idx % 100==0:\n",
    "                loss_step = eval_loss/nb_eval_steps\n",
    "                print(f\"Validation loss per 100 evaluation steps: {loss_step}\")\n",
    "              \n",
    "            # compute evaluation accuracy\n",
    "            flattened_targets = labels.view(-1) # shape (batch_size * seq_len,)\n",
    "            active_logits = output[1].view(-1, model.num_labels) # shape (batch_size * seq_len, num_labels)\n",
    "            flattened_predictions = torch.argmax(active_logits, axis=1) # shape (batch_size * seq_len,)\n",
    "            \n",
    "            # only compute accuracy at active labels\n",
    "            active_accuracy = labels.view(-1) != -100 # shape (batch_size, seq_len)\n",
    "        \n",
    "            labels = torch.masked_select(flattened_targets, active_accuracy)\n",
    "            predictions = torch.masked_select(flattened_predictions, active_accuracy)\n",
    "            \n",
    "            eval_labels.extend(labels)\n",
    "            eval_preds.extend(predictions)\n",
    "            \n",
    "            tmp_eval_accuracy = accuracy_score(labels.cpu().numpy(), predictions.cpu().numpy())\n",
    "            eval_accuracy += tmp_eval_accuracy\n",
    "            \n",
    "            # Compute Precision\n",
    "            tmp_eval_precision = precision_score(labels.cpu().numpy(), predictions.cpu().numpy(), average = 'macro', zero_division=0)\n",
    "            eval_precision += tmp_eval_precision\n",
    "            \n",
    "            # Compute Recall\n",
    "            tmp_eval_recall = recall_score(labels.cpu().numpy(), predictions.cpu().numpy(), average = 'macro', zero_division=0)\n",
    "            eval_recall += tmp_eval_recall\n",
    "            \n",
    "            # Compute f1score\n",
    "            tmp_eval_f1score = f1_score(labels.cpu().numpy(), predictions.cpu().numpy(), average='macro', zero_division=0)\n",
    "            eval_f1score += tmp_eval_f1score\n",
    "\n",
    "    labels = [ids_to_labels[id.item()] for id in eval_labels]\n",
    "    predictions = [ids_to_labels[id.item()] for id in eval_preds]\n",
    "    \n",
    "    eval_loss = eval_loss / nb_eval_steps\n",
    "    eval_accuracy = eval_accuracy / nb_eval_steps\n",
    "    eval_precision = eval_precision / nb_eval_steps\n",
    "    eval_recall = eval_recall / nb_eval_steps\n",
    "    eval_f1score = eval_f1score / nb_eval_steps\n",
    "    #print(f\"Validation Loss: {eval_loss}\")\n",
    "    #print(f\"Validation Accuracy: {eval_accuracy}\")\n",
    "\n",
    "    return labels, predictions, eval_accuracy, eval_precision, eval_recall, eval_f1score"
   ]
  },
  {
   "cell_type": "code",
   "execution_count": 4,
   "id": "74d3ba5b",
   "metadata": {},
   "outputs": [],
   "source": [
    "def main(n_epochs, model_name, model_save_flag, model_save_location, model_load_flag, model_load_location):\n",
    "    #Initialization training parameters\n",
    "    max_len = 256\n",
    "    batch_size = 32\n",
    "    grad_step = 1\n",
    "    learning_rate = 1e-05\n",
    "    initialization_input = (max_len, batch_size)\n",
    "\n",
    "    #Reading datasets and initializing data loaders\n",
    "    dataset_location = '../datasets/task_a/'\n",
    "\n",
    "    train_data = read_task(dataset_location , split = 'kan_sentiment_train')\n",
    "    dev_data = read_task(dataset_location , split = 'kan_sentiment_dev')\n",
    "    #test_data = read_task(dataset_location , split = 'dev')#load test set\n",
    "    labels_to_ids = labels_to_ids_kan\n",
    "    #input_data = (train_data, dev_data, labels_to_ids)\n",
    "\n",
    "    #Define tokenizer, model and optimizer\n",
    "    device = 'cuda' if cuda.is_available() else 'cpu' #save the processing time\n",
    "    if model_load_flag:\n",
    "        tokenizer = AutoTokenizer.from_pretrained(model_load_location)\n",
    "        model = AutoModelForSequenceClassification.from_pretrained(model_load_location)\n",
    "    else: \n",
    "        tokenizer =  AutoTokenizer.from_pretrained(model_name, add_prefix_space=True)\n",
    "        model = AutoModelForSequenceClassification.from_pretrained(model_name, num_labels=len(labels_to_ids))\n",
    "    optimizer = torch.optim.Adam(params=model.parameters(), lr=learning_rate)\n",
    "    model.to(device)\n",
    "\n",
    "    #Get dataloaders\n",
    "    train_loader = initialize_data(tokenizer, initialization_input, train_data, labels_to_ids, shuffle = True)\n",
    "    dev_loader = initialize_data(tokenizer, initialization_input, dev_data, labels_to_ids, shuffle = True)\n",
    "    #test_loader = initialize_data(tokenizer, initialization_input, test_data, labels_to_ids, shuffle = True)#create test loader\n",
    "\n",
    "    best_dev_acc = 0\n",
    "    best_test_acc = 0\n",
    "    best_dev_precision = 0\n",
    "    best_test_precision = 0\n",
    "    best_dev_recall = 0\n",
    "    best_test_recall = 0\n",
    "    best_dev_f1score = 0\n",
    "    best_test_f1score = 0\n",
    "    best_epoch = -1\n",
    "    \n",
    "    list_dev_acc = [] \n",
    "    list_test_acc = []  \n",
    "    list_dev_precision = []  \n",
    "    list_test_precision  = []  \n",
    "    list_dev_recall = []  \n",
    "    list_test_recall = []  \n",
    "    list_dev_f1score = []  \n",
    "    list_test_f1score = []\n",
    "    \n",
    "    for epoch in range(n_epochs):\n",
    "        start = time.time()\n",
    "        print(f\"Training epoch: {epoch + 1}\")\n",
    "\n",
    "        #train model\n",
    "        if not model_load_flag:\n",
    "            model = train(epoch, train_loader, model, optimizer, device, grad_step)\n",
    "        \n",
    "        #testing and logging\n",
    "        labels_dev, predictions_dev, dev_accuracy, dev_precision, dev_recall, dev_f1score = testing(model, dev_loader, labels_to_ids, device)\n",
    "        print('DEV ACC:', dev_accuracy)\n",
    "        print('DEV Precision:' , dev_precision)\n",
    "        print('DEV Recall:' , dev_recall)\n",
    "        print('DEV F1Score:' , dev_f1score)\n",
    "        \n",
    "        list_dev_acc.append(dev_accuracy)     \n",
    "        list_dev_precision.append(dev_precision)   \n",
    "        list_dev_recall.append(dev_recall)  \n",
    "        list_dev_f1score.append(dev_f1score)  \n",
    "        \n",
    "        \n",
    "        #labels_test, predictions_test, test_accuracy, test_precision, test_recall, test_f1score = testing(model, test_loader, labels_to_ids, device)\n",
    "        #print('TEST ACC:', test_accuracy)\n",
    "        #print('TEST Precision:' , test_precision)\n",
    "        #print('TEST Recall:' , test_recall)\n",
    "        #print('TEST F1Score:' , test_f1score)\n",
    "        \n",
    "        #list_test_acc.append(test_accuracy) \n",
    "        #list_test_precision.append(test_precision)  \n",
    "        #list_test_recall.append(test_recall)\n",
    "        #list_test_f1score.append(test_f1score) \n",
    "\n",
    "        #saving model\n",
    "        if dev_accuracy > best_dev_acc:\n",
    "            best_dev_acc = dev_accuracy\n",
    "            #best_test_acc = test_accuracy\n",
    "        if dev_precision > best_dev_precision:\n",
    "            best_dev_precision = dev_precision\n",
    "            #best_test_precision = test_precision\n",
    "        if dev_recall > best_dev_recall:\n",
    "            best_dev_recall = dev_recall\n",
    "            #best_test_recall = test_recall\n",
    "        if dev_f1score > best_dev_f1score:\n",
    "            best_dev_f1score = dev_f1score\n",
    "            #best_test_f1score = test_f1score\n",
    "            best_epoch = epoch\n",
    "            \n",
    "            if model_save_flag:\n",
    "                os.makedirs(model_save_location, exist_ok=True)\n",
    "                tokenizer.save_pretrained(model_save_location)\n",
    "                model.save_pretrained(model_save_location)\n",
    "\n",
    "        now = time.time()\n",
    "        print('BEST ACCURACY --> ', 'DEV:', round(best_dev_acc, 5))\n",
    "        print('BEST PRECISION --> ', 'DEV:', round(best_dev_precision, 5))\n",
    "        print('BEST RECALL --> ', 'DEV:', round(best_dev_recall, 5))\n",
    "        print('BEST F1SCORE --> ', 'DEV:', round(best_dev_f1score, 5))\n",
    "        print('TIME PER EPOCH:', (now-start)/60 )\n",
    "        print()\n",
    "\n",
    "    return best_dev_acc, best_test_acc, best_epoch, best_dev_precision, best_test_precision, best_dev_recall, best_test_recall, best_dev_f1score, best_test_f1score, list_dev_acc, list_test_acc, list_dev_precision, list_test_precision, list_dev_recall, list_test_recall, list_dev_f1score, list_test_f1score"
   ]
  },
  {
   "cell_type": "code",
   "execution_count": 5,
   "id": "7d77597b",
   "metadata": {},
   "outputs": [
    {
     "data": {
      "application/vnd.jupyter.widget-view+json": {
       "model_id": "8b430d11560142a78f8fba60f4f6bb85",
       "version_major": 2,
       "version_minor": 0
      },
      "text/plain": [
       "Downloading:   0%|          | 0.00/28.0 [00:00<?, ?B/s]"
      ]
     },
     "metadata": {},
     "output_type": "display_data"
    },
    {
     "data": {
      "application/vnd.jupyter.widget-view+json": {
       "model_id": "acb2ea1072e4498fa3d52429ecc3c4e1",
       "version_major": 2,
       "version_minor": 0
      },
      "text/plain": [
       "Downloading:   0%|          | 0.00/570 [00:00<?, ?B/s]"
      ]
     },
     "metadata": {},
     "output_type": "display_data"
    },
    {
     "data": {
      "application/vnd.jupyter.widget-view+json": {
       "model_id": "2caa2a6e187c4f9e99155c4329c54ea0",
       "version_major": 2,
       "version_minor": 0
      },
      "text/plain": [
       "Downloading:   0%|          | 0.00/226k [00:00<?, ?B/s]"
      ]
     },
     "metadata": {},
     "output_type": "display_data"
    },
    {
     "data": {
      "application/vnd.jupyter.widget-view+json": {
       "model_id": "66855b794fec468aab8c20259745983c",
       "version_major": 2,
       "version_minor": 0
      },
      "text/plain": [
       "Downloading:   0%|          | 0.00/455k [00:00<?, ?B/s]"
      ]
     },
     "metadata": {},
     "output_type": "display_data"
    },
    {
     "data": {
      "application/vnd.jupyter.widget-view+json": {
       "model_id": "4b2a94d0b25c4759a3e00088e2db2d9c",
       "version_major": 2,
       "version_minor": 0
      },
      "text/plain": [
       "Downloading:   0%|          | 0.00/420M [00:00<?, ?B/s]"
      ]
     },
     "metadata": {},
     "output_type": "display_data"
    },
    {
     "name": "stderr",
     "output_type": "stream",
     "text": [
      "Some weights of the model checkpoint at bert-base-uncased were not used when initializing BertForSequenceClassification: ['cls.predictions.transform.LayerNorm.weight', 'cls.predictions.transform.dense.weight', 'cls.predictions.transform.dense.bias', 'cls.seq_relationship.bias', 'cls.predictions.decoder.weight', 'cls.predictions.bias', 'cls.predictions.transform.LayerNorm.bias', 'cls.seq_relationship.weight']\n",
      "- This IS expected if you are initializing BertForSequenceClassification from the checkpoint of a model trained on another task or with another architecture (e.g. initializing a BertForSequenceClassification model from a BertForPreTraining model).\n",
      "- This IS NOT expected if you are initializing BertForSequenceClassification from the checkpoint of a model that you expect to be exactly identical (initializing a BertForSequenceClassification model from a BertForSequenceClassification model).\n",
      "Some weights of BertForSequenceClassification were not initialized from the model checkpoint at bert-base-uncased and are newly initialized: ['classifier.bias', 'classifier.weight']\n",
      "You should probably TRAIN this model on a down-stream task to be able to use it for predictions and inference.\n"
     ]
    },
    {
     "name": "stdout",
     "output_type": "stream",
     "text": [
      "Training epoch: 1\n"
     ]
    },
    {
     "ename": "IndexError",
     "evalue": "Caught IndexError in DataLoader worker process 0.\nOriginal Traceback (most recent call last):\n  File \"/home/ubuntu/pyenv/lib/python3.6/site-packages/torch/utils/data/_utils/worker.py\", line 287, in _worker_loop\n    data = fetcher.fetch(index)\n  File \"/home/ubuntu/pyenv/lib/python3.6/site-packages/torch/utils/data/_utils/fetch.py\", line 49, in fetch\n    data = [self.dataset[idx] for idx in possibly_batched_index]\n  File \"/home/ubuntu/pyenv/lib/python3.6/site-packages/torch/utils/data/_utils/fetch.py\", line 49, in <listcomp>\n    data = [self.dataset[idx] for idx in possibly_batched_index]\n  File \"/home/ubuntu/SharedTask/homophobia/task_a_code/load_data.py\", line 38, in __getitem__\n    input_label = self.data[index][2]\nIndexError: tuple index out of range\n",
     "output_type": "error",
     "traceback": [
      "\u001b[0;31m---------------------------------------------------------------------------\u001b[0m",
      "\u001b[0;31mIndexError\u001b[0m                                Traceback (most recent call last)",
      "\u001b[0;32m<ipython-input-5-f6cd26798cba>\u001b[0m in \u001b[0;36m<module>\u001b[0;34m\u001b[0m\n\u001b[1;32m     23\u001b[0m             \u001b[0mmodel_load_location\u001b[0m \u001b[0;34m=\u001b[0m \u001b[0;32mNone\u001b[0m\u001b[0;34m\u001b[0m\u001b[0;34m\u001b[0m\u001b[0m\n\u001b[1;32m     24\u001b[0m \u001b[0;34m\u001b[0m\u001b[0m\n\u001b[0;32m---> 25\u001b[0;31m             \u001b[0mbest_dev_acc\u001b[0m\u001b[0;34m,\u001b[0m \u001b[0mbest_test_acc\u001b[0m\u001b[0;34m,\u001b[0m \u001b[0mbest_epoch\u001b[0m\u001b[0;34m,\u001b[0m \u001b[0mbest_dev_precision\u001b[0m\u001b[0;34m,\u001b[0m \u001b[0mbest_test_precision\u001b[0m\u001b[0;34m,\u001b[0m \u001b[0mbest_dev_recall\u001b[0m\u001b[0;34m,\u001b[0m \u001b[0mbest_test_recall\u001b[0m\u001b[0;34m,\u001b[0m \u001b[0mbest_dev_f1score\u001b[0m\u001b[0;34m,\u001b[0m \u001b[0mbest_test_f1score\u001b[0m\u001b[0;34m,\u001b[0m \u001b[0mlist_dev_acc\u001b[0m\u001b[0;34m,\u001b[0m \u001b[0mlist_test_acc\u001b[0m\u001b[0;34m,\u001b[0m \u001b[0mlist_dev_precision\u001b[0m\u001b[0;34m,\u001b[0m \u001b[0mlist_test_precision\u001b[0m\u001b[0;34m,\u001b[0m \u001b[0mlist_dev_recall\u001b[0m\u001b[0;34m,\u001b[0m \u001b[0mlist_test_recall\u001b[0m\u001b[0;34m,\u001b[0m \u001b[0mlist_dev_f1score\u001b[0m\u001b[0;34m,\u001b[0m \u001b[0mlist_test_f1score\u001b[0m \u001b[0;34m=\u001b[0m \u001b[0mmain\u001b[0m\u001b[0;34m(\u001b[0m\u001b[0mn_epochs\u001b[0m\u001b[0;34m,\u001b[0m \u001b[0mmodel_name\u001b[0m\u001b[0;34m,\u001b[0m \u001b[0mmodel_save_flag\u001b[0m\u001b[0;34m,\u001b[0m \u001b[0mmodel_save_location\u001b[0m\u001b[0;34m,\u001b[0m \u001b[0mmodel_load_flag\u001b[0m\u001b[0;34m,\u001b[0m \u001b[0mmodel_load_location\u001b[0m\u001b[0;34m)\u001b[0m\u001b[0;34m\u001b[0m\u001b[0;34m\u001b[0m\u001b[0m\n\u001b[0m\u001b[1;32m     26\u001b[0m \u001b[0;34m\u001b[0m\u001b[0m\n\u001b[1;32m     27\u001b[0m             \u001b[0moverall_list_dev_acc\u001b[0m\u001b[0;34m.\u001b[0m\u001b[0mappend\u001b[0m\u001b[0;34m(\u001b[0m\u001b[0mlist_dev_acc\u001b[0m\u001b[0;34m)\u001b[0m\u001b[0;34m\u001b[0m\u001b[0;34m\u001b[0m\u001b[0m\n",
      "\u001b[0;32m<ipython-input-4-e7989c90f9d8>\u001b[0m in \u001b[0;36mmain\u001b[0;34m(n_epochs, model_name, model_save_flag, model_save_location, model_load_flag, model_load_location)\u001b[0m\n\u001b[1;32m     57\u001b[0m         \u001b[0;31m#train model\u001b[0m\u001b[0;34m\u001b[0m\u001b[0;34m\u001b[0m\u001b[0;34m\u001b[0m\u001b[0m\n\u001b[1;32m     58\u001b[0m         \u001b[0;32mif\u001b[0m \u001b[0;32mnot\u001b[0m \u001b[0mmodel_load_flag\u001b[0m\u001b[0;34m:\u001b[0m\u001b[0;34m\u001b[0m\u001b[0;34m\u001b[0m\u001b[0m\n\u001b[0;32m---> 59\u001b[0;31m             \u001b[0mmodel\u001b[0m \u001b[0;34m=\u001b[0m \u001b[0mtrain\u001b[0m\u001b[0;34m(\u001b[0m\u001b[0mepoch\u001b[0m\u001b[0;34m,\u001b[0m \u001b[0mtrain_loader\u001b[0m\u001b[0;34m,\u001b[0m \u001b[0mmodel\u001b[0m\u001b[0;34m,\u001b[0m \u001b[0moptimizer\u001b[0m\u001b[0;34m,\u001b[0m \u001b[0mdevice\u001b[0m\u001b[0;34m,\u001b[0m \u001b[0mgrad_step\u001b[0m\u001b[0;34m)\u001b[0m\u001b[0;34m\u001b[0m\u001b[0;34m\u001b[0m\u001b[0m\n\u001b[0m\u001b[1;32m     60\u001b[0m \u001b[0;34m\u001b[0m\u001b[0m\n\u001b[1;32m     61\u001b[0m         \u001b[0;31m#testing and logging\u001b[0m\u001b[0;34m\u001b[0m\u001b[0;34m\u001b[0m\u001b[0;34m\u001b[0m\u001b[0m\n",
      "\u001b[0;32m<ipython-input-2-3569138181ca>\u001b[0m in \u001b[0;36mtrain\u001b[0;34m(epoch, train_loader, model, optimizer, device, grad_step, max_grad_norm)\u001b[0m\n\u001b[1;32m      9\u001b[0m     \u001b[0moptimizer\u001b[0m\u001b[0;34m.\u001b[0m\u001b[0mzero_grad\u001b[0m\u001b[0;34m(\u001b[0m\u001b[0;34m)\u001b[0m\u001b[0;34m\u001b[0m\u001b[0;34m\u001b[0m\u001b[0m\n\u001b[1;32m     10\u001b[0m \u001b[0;34m\u001b[0m\u001b[0m\n\u001b[0;32m---> 11\u001b[0;31m     \u001b[0;32mfor\u001b[0m \u001b[0midx\u001b[0m\u001b[0;34m,\u001b[0m \u001b[0mbatch\u001b[0m \u001b[0;32min\u001b[0m \u001b[0menumerate\u001b[0m\u001b[0;34m(\u001b[0m\u001b[0mtrain_loader\u001b[0m\u001b[0;34m)\u001b[0m\u001b[0;34m:\u001b[0m\u001b[0;34m\u001b[0m\u001b[0;34m\u001b[0m\u001b[0m\n\u001b[0m\u001b[1;32m     12\u001b[0m         \u001b[0mids\u001b[0m \u001b[0;34m=\u001b[0m \u001b[0mbatch\u001b[0m\u001b[0;34m[\u001b[0m\u001b[0;34m'input_ids'\u001b[0m\u001b[0;34m]\u001b[0m\u001b[0;34m.\u001b[0m\u001b[0mto\u001b[0m\u001b[0;34m(\u001b[0m\u001b[0mdevice\u001b[0m\u001b[0;34m,\u001b[0m \u001b[0mdtype\u001b[0m \u001b[0;34m=\u001b[0m \u001b[0mtorch\u001b[0m\u001b[0;34m.\u001b[0m\u001b[0mlong\u001b[0m\u001b[0;34m)\u001b[0m\u001b[0;34m\u001b[0m\u001b[0;34m\u001b[0m\u001b[0m\n\u001b[1;32m     13\u001b[0m         \u001b[0mmask\u001b[0m \u001b[0;34m=\u001b[0m \u001b[0mbatch\u001b[0m\u001b[0;34m[\u001b[0m\u001b[0;34m'attention_mask'\u001b[0m\u001b[0;34m]\u001b[0m\u001b[0;34m.\u001b[0m\u001b[0mto\u001b[0m\u001b[0;34m(\u001b[0m\u001b[0mdevice\u001b[0m\u001b[0;34m,\u001b[0m \u001b[0mdtype\u001b[0m \u001b[0;34m=\u001b[0m \u001b[0mtorch\u001b[0m\u001b[0;34m.\u001b[0m\u001b[0mlong\u001b[0m\u001b[0;34m)\u001b[0m\u001b[0;34m\u001b[0m\u001b[0;34m\u001b[0m\u001b[0m\n",
      "\u001b[0;32m~/pyenv/lib/python3.6/site-packages/torch/utils/data/dataloader.py\u001b[0m in \u001b[0;36m__next__\u001b[0;34m(self)\u001b[0m\n\u001b[1;32m    519\u001b[0m             \u001b[0;32mif\u001b[0m \u001b[0mself\u001b[0m\u001b[0;34m.\u001b[0m\u001b[0m_sampler_iter\u001b[0m \u001b[0;32mis\u001b[0m \u001b[0;32mNone\u001b[0m\u001b[0;34m:\u001b[0m\u001b[0;34m\u001b[0m\u001b[0;34m\u001b[0m\u001b[0m\n\u001b[1;32m    520\u001b[0m                 \u001b[0mself\u001b[0m\u001b[0;34m.\u001b[0m\u001b[0m_reset\u001b[0m\u001b[0;34m(\u001b[0m\u001b[0;34m)\u001b[0m\u001b[0;34m\u001b[0m\u001b[0;34m\u001b[0m\u001b[0m\n\u001b[0;32m--> 521\u001b[0;31m             \u001b[0mdata\u001b[0m \u001b[0;34m=\u001b[0m \u001b[0mself\u001b[0m\u001b[0;34m.\u001b[0m\u001b[0m_next_data\u001b[0m\u001b[0;34m(\u001b[0m\u001b[0;34m)\u001b[0m\u001b[0;34m\u001b[0m\u001b[0;34m\u001b[0m\u001b[0m\n\u001b[0m\u001b[1;32m    522\u001b[0m             \u001b[0mself\u001b[0m\u001b[0;34m.\u001b[0m\u001b[0m_num_yielded\u001b[0m \u001b[0;34m+=\u001b[0m \u001b[0;36m1\u001b[0m\u001b[0;34m\u001b[0m\u001b[0;34m\u001b[0m\u001b[0m\n\u001b[1;32m    523\u001b[0m             \u001b[0;32mif\u001b[0m \u001b[0mself\u001b[0m\u001b[0;34m.\u001b[0m\u001b[0m_dataset_kind\u001b[0m \u001b[0;34m==\u001b[0m \u001b[0m_DatasetKind\u001b[0m\u001b[0;34m.\u001b[0m\u001b[0mIterable\u001b[0m \u001b[0;32mand\u001b[0m\u001b[0;31m \u001b[0m\u001b[0;31m\\\u001b[0m\u001b[0;34m\u001b[0m\u001b[0;34m\u001b[0m\u001b[0m\n",
      "\u001b[0;32m~/pyenv/lib/python3.6/site-packages/torch/utils/data/dataloader.py\u001b[0m in \u001b[0;36m_next_data\u001b[0;34m(self)\u001b[0m\n\u001b[1;32m   1201\u001b[0m             \u001b[0;32melse\u001b[0m\u001b[0;34m:\u001b[0m\u001b[0;34m\u001b[0m\u001b[0;34m\u001b[0m\u001b[0m\n\u001b[1;32m   1202\u001b[0m                 \u001b[0;32mdel\u001b[0m \u001b[0mself\u001b[0m\u001b[0;34m.\u001b[0m\u001b[0m_task_info\u001b[0m\u001b[0;34m[\u001b[0m\u001b[0midx\u001b[0m\u001b[0;34m]\u001b[0m\u001b[0;34m\u001b[0m\u001b[0;34m\u001b[0m\u001b[0m\n\u001b[0;32m-> 1203\u001b[0;31m                 \u001b[0;32mreturn\u001b[0m \u001b[0mself\u001b[0m\u001b[0;34m.\u001b[0m\u001b[0m_process_data\u001b[0m\u001b[0;34m(\u001b[0m\u001b[0mdata\u001b[0m\u001b[0;34m)\u001b[0m\u001b[0;34m\u001b[0m\u001b[0;34m\u001b[0m\u001b[0m\n\u001b[0m\u001b[1;32m   1204\u001b[0m \u001b[0;34m\u001b[0m\u001b[0m\n\u001b[1;32m   1205\u001b[0m     \u001b[0;32mdef\u001b[0m \u001b[0m_try_put_index\u001b[0m\u001b[0;34m(\u001b[0m\u001b[0mself\u001b[0m\u001b[0;34m)\u001b[0m\u001b[0;34m:\u001b[0m\u001b[0;34m\u001b[0m\u001b[0;34m\u001b[0m\u001b[0m\n",
      "\u001b[0;32m~/pyenv/lib/python3.6/site-packages/torch/utils/data/dataloader.py\u001b[0m in \u001b[0;36m_process_data\u001b[0;34m(self, data)\u001b[0m\n\u001b[1;32m   1227\u001b[0m         \u001b[0mself\u001b[0m\u001b[0;34m.\u001b[0m\u001b[0m_try_put_index\u001b[0m\u001b[0;34m(\u001b[0m\u001b[0;34m)\u001b[0m\u001b[0;34m\u001b[0m\u001b[0;34m\u001b[0m\u001b[0m\n\u001b[1;32m   1228\u001b[0m         \u001b[0;32mif\u001b[0m \u001b[0misinstance\u001b[0m\u001b[0;34m(\u001b[0m\u001b[0mdata\u001b[0m\u001b[0;34m,\u001b[0m \u001b[0mExceptionWrapper\u001b[0m\u001b[0;34m)\u001b[0m\u001b[0;34m:\u001b[0m\u001b[0;34m\u001b[0m\u001b[0;34m\u001b[0m\u001b[0m\n\u001b[0;32m-> 1229\u001b[0;31m             \u001b[0mdata\u001b[0m\u001b[0;34m.\u001b[0m\u001b[0mreraise\u001b[0m\u001b[0;34m(\u001b[0m\u001b[0;34m)\u001b[0m\u001b[0;34m\u001b[0m\u001b[0;34m\u001b[0m\u001b[0m\n\u001b[0m\u001b[1;32m   1230\u001b[0m         \u001b[0;32mreturn\u001b[0m \u001b[0mdata\u001b[0m\u001b[0;34m\u001b[0m\u001b[0;34m\u001b[0m\u001b[0m\n\u001b[1;32m   1231\u001b[0m \u001b[0;34m\u001b[0m\u001b[0m\n",
      "\u001b[0;32m~/pyenv/lib/python3.6/site-packages/torch/_utils.py\u001b[0m in \u001b[0;36mreraise\u001b[0;34m(self)\u001b[0m\n\u001b[1;32m    432\u001b[0m             \u001b[0;31m# instantiate since we don't know how to\u001b[0m\u001b[0;34m\u001b[0m\u001b[0;34m\u001b[0m\u001b[0;34m\u001b[0m\u001b[0m\n\u001b[1;32m    433\u001b[0m             \u001b[0;32mraise\u001b[0m \u001b[0mRuntimeError\u001b[0m\u001b[0;34m(\u001b[0m\u001b[0mmsg\u001b[0m\u001b[0;34m)\u001b[0m \u001b[0;32mfrom\u001b[0m \u001b[0;32mNone\u001b[0m\u001b[0;34m\u001b[0m\u001b[0;34m\u001b[0m\u001b[0m\n\u001b[0;32m--> 434\u001b[0;31m         \u001b[0;32mraise\u001b[0m \u001b[0mexception\u001b[0m\u001b[0;34m\u001b[0m\u001b[0;34m\u001b[0m\u001b[0m\n\u001b[0m\u001b[1;32m    435\u001b[0m \u001b[0;34m\u001b[0m\u001b[0m\n\u001b[1;32m    436\u001b[0m \u001b[0;34m\u001b[0m\u001b[0m\n",
      "\u001b[0;31mIndexError\u001b[0m: Caught IndexError in DataLoader worker process 0.\nOriginal Traceback (most recent call last):\n  File \"/home/ubuntu/pyenv/lib/python3.6/site-packages/torch/utils/data/_utils/worker.py\", line 287, in _worker_loop\n    data = fetcher.fetch(index)\n  File \"/home/ubuntu/pyenv/lib/python3.6/site-packages/torch/utils/data/_utils/fetch.py\", line 49, in fetch\n    data = [self.dataset[idx] for idx in possibly_batched_index]\n  File \"/home/ubuntu/pyenv/lib/python3.6/site-packages/torch/utils/data/_utils/fetch.py\", line 49, in <listcomp>\n    data = [self.dataset[idx] for idx in possibly_batched_index]\n  File \"/home/ubuntu/SharedTask/homophobia/task_a_code/load_data.py\", line 38, in __getitem__\n    input_label = self.data[index][2]\nIndexError: tuple index out of range\n"
     ]
    }
   ],
   "source": [
    "if __name__ == '__main__':\n",
    "    n_epochs = 10\n",
    "    models = ['bert-base-uncased']\n",
    "    \n",
    "    #model saving parameters\n",
    "    model_save_flag = True\n",
    "    model_load_flag = False\n",
    "    \n",
    "    overall_list_dev_acc = [] \n",
    "    overall_list_test_acc = []    \n",
    "    overall_list_dev_precision = []  \n",
    "    overall_list_test_precision  = []  \n",
    "    overall_list_dev_recall = []  \n",
    "    overall_list_test_recall = []  \n",
    "    overall_list_dev_f1score = []  \n",
    "    overall_list_test_f1score = [] \n",
    "    \n",
    "    for i in range(5):\n",
    "        \n",
    "        for model_name in models:\n",
    "\n",
    "            model_save_location = 'saved_models/' + model_name + 'Kannada' + str(i)\n",
    "            model_load_location = None\n",
    "\n",
    "            best_dev_acc, best_test_acc, best_epoch, best_dev_precision, best_test_precision, best_dev_recall, best_test_recall, best_dev_f1score, best_test_f1score, list_dev_acc, list_test_acc, list_dev_precision, list_test_precision, list_dev_recall, list_test_recall, list_dev_f1score, list_test_f1score = main(n_epochs, model_name, model_save_flag, model_save_location, model_load_flag, model_load_location)\n",
    "            \n",
    "            overall_list_dev_acc.append(list_dev_acc) \n",
    "            overall_list_test_acc.append(list_test_acc) \n",
    "            overall_list_dev_precision.append(list_dev_precision)  \n",
    "            overall_list_test_precision.append(list_test_precision) \n",
    "            overall_list_dev_recall.append(list_dev_recall)  \n",
    "            overall_list_test_recall.append(list_test_recall)  \n",
    "            overall_list_dev_f1score.append(list_dev_f1score)  \n",
    "            overall_list_test_f1score.append(list_test_f1score) "
   ]
  },
  {
   "cell_type": "code",
   "execution_count": 6,
   "id": "196e9dee",
   "metadata": {},
   "outputs": [
    {
     "name": "stdout",
     "output_type": "stream",
     "text": [
      "0.8285016166960611\n"
     ]
    }
   ],
   "source": [
    "print(best_dev_acc)"
   ]
  },
  {
   "cell_type": "code",
   "execution_count": 7,
   "id": "ced1188d",
   "metadata": {},
   "outputs": [
    {
     "name": "stdout",
     "output_type": "stream",
     "text": [
      "0\n"
     ]
    }
   ],
   "source": [
    "print(best_epoch)"
   ]
  },
  {
   "cell_type": "code",
   "execution_count": 8,
   "id": "c3a9b20d",
   "metadata": {},
   "outputs": [
    {
     "name": "stdout",
     "output_type": "stream",
     "text": [
      "0.6918332989761561\n"
     ]
    }
   ],
   "source": [
    "print(best_dev_precision)"
   ]
  },
  {
   "cell_type": "code",
   "execution_count": 9,
   "id": "fd177b8a",
   "metadata": {},
   "outputs": [
    {
     "name": "stdout",
     "output_type": "stream",
     "text": [
      "0.8557760141093474\n"
     ]
    }
   ],
   "source": [
    "print(best_dev_recall)"
   ]
  },
  {
   "cell_type": "code",
   "execution_count": 10,
   "id": "fa26b365",
   "metadata": {},
   "outputs": [
    {
     "name": "stdout",
     "output_type": "stream",
     "text": [
      "0.7210814240226004\n"
     ]
    }
   ],
   "source": [
    "print(best_dev_f1score)"
   ]
  },
  {
   "cell_type": "code",
   "execution_count": 11,
   "id": "9c373e6c",
   "metadata": {},
   "outputs": [
    {
     "name": "stdout",
     "output_type": "stream",
     "text": [
      "[[0.8141166960611406, 0.8192607289829512, 0.8059046149323927, 0.7978395061728395, 0.812444885361552, 0.7940917107583775, 0.8119488536155203, 0.8176807760141093, 0.8009442974720753, 0.7994562022339801], [0.8150169018224575, 0.8071722516166961, 0.8082929159318047, 0.8116365373309818, 0.8161008230452675, 0.8091563786008231, 0.8156047912992358, 0.8023037918871252, 0.819077013521458, 0.8125367430922987], [0.8179930922986479, 0.8143004115226337, 0.8168724279835391, 0.8041409465020576, 0.8080724573780129, 0.8051881246325692, 0.8025242504409171, 0.802120076425632, 0.8143371546149324, 0.8051881246325692], [0.769510582010582, 0.8233575837742505, 0.8090645208700764, 0.8000073486184597, 0.7933201058201058, 0.7997317754262199, 0.7971965020576132, 0.8065292475014698, 0.8051881246325692, 0.8086603468547914], [0.8065843621399177, 0.8285016166960611, 0.8045083774250441, 0.8126286008230453, 0.8183605232216343, 0.8091563786008231, 0.8178093768371546, 0.7844466490299823, 0.7866512345679012, 0.8094686948853616]]\n"
     ]
    }
   ],
   "source": [
    "print(overall_list_dev_acc)"
   ]
  },
  {
   "cell_type": "code",
   "execution_count": 12,
   "id": "ac29c8fa",
   "metadata": {},
   "outputs": [
    {
     "name": "stdout",
     "output_type": "stream",
     "text": [
      "[[0.6437280972995257, 0.6389787901692663, 0.6567838246409676, 0.6765529444100873, 0.6546233308138072, 0.652166792642983, 0.6342632675966007, 0.6569790879314689, 0.6568697175840031, 0.6659709338280767], [0.6097403478355862, 0.6551461325270851, 0.636827678494345, 0.6362153278819948, 0.6520997961474153, 0.6469891660367851, 0.6620433358528598, 0.6560669048764284, 0.6938082640463594, 0.6350640981593363], [0.6278695342420832, 0.6429049345716012, 0.617576559243226, 0.6616573902288189, 0.6213781809019905, 0.578140245997389, 0.6169730181634943, 0.6759179092512426, 0.6198538674729153, 0.6036373679230823], [0.5855406057787013, 0.6872849813326003, 0.6304076875505447, 0.6109032501889643, 0.6740236835474933, 0.6355820105820108, 0.6277903754094231, 0.6504208754208755, 0.6195996243615289, 0.6273906869144965], [0.6918332989761561, 0.6443191288429385, 0.6383935729173823, 0.6353111615016378, 0.6414003985432558, 0.626396046634142, 0.647439817677913, 0.6284202569916856, 0.6120708215946312, 0.638397581254724]]\n"
     ]
    }
   ],
   "source": [
    "print(overall_list_dev_precision)"
   ]
  },
  {
   "cell_type": "code",
   "execution_count": 13,
   "id": "b830b7e7",
   "metadata": {},
   "outputs": [
    {
     "name": "stdout",
     "output_type": "stream",
     "text": [
      "[[0.8827223481985388, 0.8126354245401862, 0.6116717057193249, 0.6034832451499117, 0.8223544973544972, 0.5406399596875788, 0.7949168556311413, 0.7566326530612244, 0.6162784305641449, 0.6828666483428386], [0.9225875535399345, 0.7007810531620058, 0.7557067271352982, 0.7593262557548273, 0.7843348450491306, 0.6785691380929475, 0.7093829450972309, 0.7197908793146889, 0.6891070569642, 0.7485323759133283], [0.9317964222726127, 0.7529958137100995, 0.8122804003756386, 0.680971277399849, 0.6464823976728739, 0.723267825648778, 0.6872826908541193, 0.628776426395474, 0.8267573696145125, 0.7397077349458302], [0.8970206601158981, 0.7450617283950617, 0.732027187979569, 0.5572751322751323, 0.5499118165784832, 0.663432511051559, 0.651218578599531, 0.7400919627110102, 0.7640497950021762, 0.7047275475846904], [0.7881834215167549, 0.8557760141093474, 0.787459057697153, 0.737166449071211, 0.8149596875787348, 0.7125661375661373, 0.7979809432190385, 0.5393074738312833, 0.7084530108339633, 0.7368228772990677]]\n"
     ]
    }
   ],
   "source": [
    "print(overall_list_dev_recall)"
   ]
  },
  {
   "cell_type": "code",
   "execution_count": 14,
   "id": "d9109a76",
   "metadata": {},
   "outputs": [
    {
     "name": "stdout",
     "output_type": "stream",
     "text": [
      "[[0.7250477244838144, 0.6981709188807816, 0.611411436260323, 0.6157595490928824, 0.7047696133756874, 0.5786304628041321, 0.6854547184268543, 0.6823379536522686, 0.6117631978976517, 0.6517841202542085], [0.7153281622358724, 0.6548427473608073, 0.6724396033580756, 0.6693912065023666, 0.683705210842908, 0.6469594295003404, 0.6601667309871646, 0.6617204487542094, 0.6715282098335317, 0.6645675061420305], [0.7277512751841154, 0.6791466992336814, 0.6816746889870874, 0.6550230814936698, 0.6163843054458338, 0.6281819607707858, 0.6248857174516911, 0.6087191364502288, 0.6927338910045674, 0.647925634382217], [0.6955678453172185, 0.6874764757523122, 0.6550309711896541, 0.5709181888379883, 0.5790054172407113, 0.621155146855427, 0.6180513080471308, 0.6679666898043719, 0.6727881294268488, 0.6411716301894111], [0.7210814240226004, 0.7189535637862334, 0.6784689190225087, 0.6598233033586122, 0.6971627309053353, 0.6500929951173207, 0.6967653677048646, 0.5640753892854734, 0.6384126641018871, 0.6575155811039635]]\n"
     ]
    }
   ],
   "source": [
    "print(overall_list_dev_f1score)"
   ]
  },
  {
   "cell_type": "code",
   "execution_count": 15,
   "id": "319d8292",
   "metadata": {},
   "outputs": [],
   "source": [
    "#The best model is 2"
   ]
  },
  {
   "cell_type": "code",
   "execution_count": null,
   "id": "61540c34",
   "metadata": {},
   "outputs": [],
   "source": []
  }
 ],
 "metadata": {
  "kernelspec": {
   "display_name": "Python 3",
   "language": "python",
   "name": "python3"
  },
  "language_info": {
   "codemirror_mode": {
    "name": "ipython",
    "version": 3
   },
   "file_extension": ".py",
   "mimetype": "text/x-python",
   "name": "python",
   "nbconvert_exporter": "python",
   "pygments_lexer": "ipython3",
   "version": "3.6.9"
  }
 },
 "nbformat": 4,
 "nbformat_minor": 5
}
